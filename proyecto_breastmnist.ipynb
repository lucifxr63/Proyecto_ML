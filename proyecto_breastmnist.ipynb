{
 "cells": [
  {
   "cell_type": "markdown",
   "metadata": {},
   "source": [
    "# Proyecto BreastMNIST\n",
    "Este notebook descarga el dataset BreastMNIST, lo preprocesa y visualiza algunas\n",
    "im\u00e1genes de ejemplo. Tambi\u00e9n se definen plantillas de modelos en `models/`."
   ]
  },
  {
   "cell_type": "code",
   "execution_count": null,
   "metadata": {},
   "outputs": [],
   "source": [
    "# !pip install -q medmnist\n",
    "import torch\n",
    "from torchvision import transforms\n",
    "from torch.utils.data import DataLoader\n",
    "import matplotlib.pyplot as plt\n",
    "import seaborn as sns\n",
    "from medmnist import INFO, BreastMNIST\n",
    "import numpy as np\n",
    "from collections import Counter\n",
    "from models.cnn import BasicCNN\n",
    "from models.moe import MixtureOfExperts\n"
   ]
  },
  {
   "cell_type": "code",
   "execution_count": null,
   "metadata": {},
   "outputs": [],
   "source": [
    "# Cargar BreastMNIST\n",
    "data_flag = 'breastmnist'\n",
    "download = True\n",
    "info = INFO[data_flag]\n",
    "DataClass = BreastMNIST\n",
    "\n",
    "transform = transforms.Compose([\n",
    "    transforms.ToTensor()\n",
    "])\n",
    "\n",
    "train_dataset = DataClass(split='train', transform=transform, download=download)\n",
    "test_dataset = DataClass(split='test', transform=transform, download=download)\n",
    "\n",
    "train_loader = DataLoader(train_dataset, batch_size=64, shuffle=True)\n",
    "test_loader = DataLoader(test_dataset, batch_size=64, shuffle=False)\n"
   ]
  },
  {
   "cell_type": "code",
   "execution_count": null,
   "metadata": {},
   "outputs": [],
   "source": [
    "# Visualizar algunas im\u00e1genes\n",
    "fig, axes = plt.subplots(1, 6, figsize=(12, 3))\n",
    "for idx, (img, label) in enumerate([train_dataset[i] for i in range(6)]):\n",
    "    axes[idx].imshow(img.squeeze(), cmap='gray')\n",
    "    axes[idx].set_title(f'Label: {label.item()}')\n",
    "    axes[idx].axis('off')\n",
    "plt.show()\n"
   ]
  },
  {
   "cell_type": "code",
   "execution_count": null,
   "metadata": {},
   "outputs": [],
   "source": [
    "# Distribuci\u00f3n de clases\n",
    "labels = [label for _, label in train_dataset]\n",
    "counter = Counter(labels)\n",
    "sns.barplot(x=list(counter.keys()), y=list(counter.values()))\n",
    "plt.xlabel('Clase')\n",
    "plt.ylabel('Cantidad')\n",
    "plt.title('Distribuci\u00f3n de clases en BreastMNIST')\n",
    "plt.show()\n"
   ]
  },
  {
   "cell_type": "markdown",
   "metadata": {},
   "source": [
    "## Definici\u00f3n de modelos\n",
    "Los modelos se encuentran en el directorio `models/`. A continuaci\u00f3n se instancia\n",
    "una CNN b\u00e1sica y un modelo de Mezcla de Expertos (MoE) como ejemplo."
   ]
  },
  {
   "cell_type": "code",
   "execution_count": null,
   "metadata": {},
   "outputs": [],
   "source": [
    "basic_model = BasicCNN(num_classes=2)\n",
    "moe_model = MixtureOfExperts(BasicCNN, num_experts=4, num_classes=2)\n",
    "print(basic_model)\n",
    "print(moe_model)\n"
   ]
  }
 ],
 "metadata": {
  "kernelspec": {
   "display_name": "Python 3",
   "language": "python",
   "name": "python3"
  },
  "language_info": {
   "name": "python",
   "version": "3.x"
  }
 },
 "nbformat": 4,
 "nbformat_minor": 2
}
