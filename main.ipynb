{
 "cells": [
  {
   "cell_type": "markdown",
   "metadata": {},
   "source": [
    "# BreastMNIST - An\u00e1lisis Inicial\n",
    "Este notebook carga el dataset **BreastMNIST** (versi\u00f3n v2) y realiza una primera visualizaci\u00f3n de las im\u00e1genes junto con la distribuci\u00f3n de clases."
   ]
  },
  {
   "cell_type": "code",
   "execution_count": null,
   "metadata": {},
   "outputs": [],
   "source": [
    "# Instalaci\u00f3n de medmnist si es necesario\n",
    "# %pip install -q medmnist\n",
    "import torch\n",
    "from torchvision import transforms\n",
    "from torch.utils.data import DataLoader\n",
    "import matplotlib.pyplot as plt\n",
    "import seaborn as sns\n",
    "import numpy as np\n",
    "from collections import Counter\n",
    "from medmnist import INFO, BreastMNIST\n"
   ]
  },
  {
   "cell_type": "code",
   "execution_count": null,
   "metadata": {},
   "outputs": [],
   "source": [
    "# Carga del dataset BreastMNIST\n",
    "data_flag = 'breastmnist'\n",
    "download = True\n",
    "info = INFO[data_flag]\n",
    "DataClass = BreastMNIST\n",
    "\n",
    "transform = transforms.Compose([transforms.ToTensor()])\n",
    "\n",
    "train_dataset = DataClass(split='train', transform=transform, download=download)\n",
    "test_dataset = DataClass(split='test', transform=transform, download=download)\n",
    "train_loader = DataLoader(train_dataset, batch_size=64, shuffle=True)\n",
    "test_loader = DataLoader(test_dataset, batch_size=64, shuffle=False)\n",
    "classes = info['label']\n"
   ]
  },
  {
   "cell_type": "code",
   "execution_count": null,
   "metadata": {},
   "outputs": [],
   "source": [
    "# Mostrar algunas im\u00e1genes por clase\n",
    "fig, axes = plt.subplots(2, 6, figsize=(12, 4))\n",
    "for cls in [0, 1]:\n",
    "    cls_indices = [i for i, (_, label) in enumerate(train_dataset) if label == cls]\n",
    "    selected = np.random.choice(cls_indices, size=6, replace=False)\n",
    "    for j, idx in enumerate(selected):\n",
    "        img, _ = train_dataset[idx]\n",
    "        ax = axes[cls, j]\n",
    "        ax.imshow(img.squeeze(), cmap='gray')\n",
    "        ax.set_title(f'Clase {cls}')\n",
    "        ax.axis('off')\n",
    "plt.tight_layout()\n",
    "plt.show()\n"
   ]
  },
  {
   "cell_type": "code",
   "execution_count": null,
   "metadata": {},
   "outputs": [],
   "source": [
    "# Distribuci\u00f3n de clases en el conjunto de entrenamiento\n",
    "labels = [int(label) for _, label in train_dataset]\n",
    "counter = Counter(labels)\n",
    "sns.barplot(x=list(counter.keys()), y=list(counter.values()), palette='viridis')\n",
    "plt.xlabel('Clase')\n",
    "plt.ylabel('Cantidad')\n",
    "plt.title('Distribuci\u00f3n de clases en BreastMNIST')\n",
    "plt.show()\n"
   ]
  },
  {
   "cell_type": "code",
   "execution_count": null,
   "metadata": {},
   "outputs": [],
   "source": [
    "# Imagen promedio por clase\n",
    "mean_images = []\n",
    "for cls in [0, 1]:\n",
    "    imgs_cls = torch.stack([img for img, label in train_dataset if label == cls])\n",
    "    mean_img = imgs_cls.mean(dim=0).squeeze()\n",
    "    mean_images.append(mean_img)\n",
    "    plt.imshow(mean_img, cmap='gray')\n",
    "    plt.title(f'Imagen promedio - Clase {cls}')\n",
    "    plt.axis('off')\n",
    "    plt.show()\n"
   ]
  }
 ],
 "metadata": {
  "kernelspec": {
   "display_name": "Python 3",
   "language": "python",
   "name": "python3"
  },
  "language_info": {
   "name": "python",
   "version": "3.x"
  }
 },
 "nbformat": 4,
 "nbformat_minor": 2
}
